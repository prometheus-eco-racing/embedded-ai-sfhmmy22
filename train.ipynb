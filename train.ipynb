{
  "cells": [
    {
      "cell_type": "markdown",
      "metadata": {
        "id": "view-in-github",
        "colab_type": "text"
      },
      "source": [
        "<a href=\"https://colab.research.google.com/github/prometheus-eco-racing/embedded-ai-sfhmmy22-att/blob/master/train.ipynb\" target=\"_parent\"><img src=\"https://colab.research.google.com/assets/colab-badge.svg\" alt=\"Open In Colab\"/></a>"
      ]
    },
    {
      "cell_type": "markdown",
      "metadata": {
        "id": "uvDA8AK7QOq-"
      },
      "source": [
        "# Setup Python Environment \n",
        "\n",
        "The next cell sets up the dependencies in required for the notebook, run it."
      ]
    },
    {
      "cell_type": "code",
      "execution_count": null,
      "metadata": {
        "id": "Y2gs-PL4xDkZ"
      },
      "outputs": [],
      "source": [
        "!apt-get -qq install xxd\n",
        "!pip3 install pandas numpy matplotlib\n",
        "!pip3 install tensorflow==2.0.0\n",
        "\n",
        "from locale import normalize\n",
        "import matplotlib.pyplot as plt\n",
        "import numpy as np\n",
        "import pandas as pd\n",
        "import tensorflow as tf"
      ]
    },
    {
      "cell_type": "markdown",
      "metadata": {
        "id": "9lwkeshJk7dg"
      },
      "source": [
        "# Upload Data\n",
        "\n",
        "Create a `data` folder and upload the `balanced.csv` and `unbalanced.csv` files you just created.\n",
        "\n",
        "Sometimes copy-paste from arduino serial monitor adds a second newline. Uncomment and run the following cell to consume them:"
      ]
    },
    {
      "cell_type": "code",
      "execution_count": null,
      "metadata": {
        "id": "qbP4C6oyl_0z"
      },
      "outputs": [],
      "source": [
        "# import sys\n",
        "# for fpath in [\"data/balanced.csv\", \"data/unbalanced.csv\"]:\n",
        "#     with open(fpath) as fin, open(fpath+\"2\", 'w+') as fout:\n",
        "#         for line in fin:\n",
        "#             if not line.isspace():\n",
        "#                 fout.write(line)"
      ]
    },
    {
      "cell_type": "markdown",
      "metadata": {
        "id": "omqC9j3VpHnd"
      },
      "source": [
        "# Plot the data"
      ]
    },
    {
      "cell_type": "code",
      "execution_count": null,
      "metadata": {
        "id": "HSt7ycn-pHne"
      },
      "outputs": [],
      "source": [
        "df_unbalanced = pd.read_csv(\"data/unbalanced.csv\")\n",
        "df_balanced = pd.read_csv(\"data/balanced.csv\")\n",
        "\n",
        "plt.figure()\n",
        "plt.plot(df_unbalanced['aX'], 'g.', label='x', linestyle='solid', marker=',')\n",
        "plt.plot(df_unbalanced['aY'], 'b.', label='y', linestyle='solid', marker=',')\n",
        "plt.plot(df_unbalanced['aZ'], 'r.', label='z', linestyle='solid', marker=',')\n",
        "plt.title(\"Unbalanced\")\n",
        "plt.xlabel(\"Sample #\")\n",
        "plt.ylabel(\"Gyroscope (deg/sec)\")\n",
        "plt.legend()\n",
        "\n",
        "plt.figure()\n",
        "plt.plot(df_balanced['aX'], 'g.', label='x', linestyle='solid', marker=',')\n",
        "plt.plot(df_balanced['aY'], 'b.', label='y', linestyle='solid', marker=',')\n",
        "plt.plot(df_balanced['aZ'], 'r.', label='z', linestyle='solid', marker=',')\n",
        "plt.title(\"Balanced\")\n",
        "plt.xlabel(\"Sample #\")\n",
        "plt.ylabel(\"Gyroscope (deg/sec)\")\n",
        "plt.legend()\n",
        "plt.show()"
      ]
    },
    {
      "cell_type": "markdown",
      "metadata": {
        "id": "Gxk414PU3oy3"
      },
      "source": [
        "# Train the Neural Network\n",
        "\n",
        "## Preprocess the dataset\n",
        "\n",
        "The next cell parses the csv files and transforms them to a format that will be used to train the full connected neural network."
      ]
    },
    {
      "cell_type": "code",
      "execution_count": null,
      "metadata": {
        "id": "AGChd1FAk5_j"
      },
      "outputs": [],
      "source": [
        "CLASS = [\n",
        "    \"balanced\",\n",
        "    \"unbalanced\",\n",
        "]\n",
        "\n",
        "MSR_SERIES_PER_SAMPLE = 10 # number of measurement series (6) per sample\n",
        "\n",
        "inputs = []\n",
        "outputs = []\n",
        "\n",
        "# read each csv file and push an input and output\n",
        "for output_class in CLASS:\n",
        "  output = 1 if output_class == \"balanced\" else 0\n",
        "  print(f\"Processing output_class '{output_class}'.\")\n",
        "\n",
        "  df = pd.read_csv(\"data/\" + output_class + \".csv\", dtype=float)\n",
        "\n",
        "  # calculate the number of dataset samples for the current class\n",
        "  num_samples = int(df.shape[0] / MSR_SERIES_PER_SAMPLE)\n",
        "  \n",
        "  print(f\"\\tThere are {num_samples} samples of the {output_class} output_class in the dataset.\")\n",
        "\n",
        "\n",
        "  for i in range(num_samples):\n",
        "    tensor = []\n",
        "    for j in range(MSR_SERIES_PER_SAMPLE):\n",
        "      index = i * MSR_SERIES_PER_SAMPLE + j\n",
        "\n",
        "      tensor += [\n",
        "          df['aX'][index], \n",
        "          df['aY'][index], \n",
        "          df['aZ'][index], \n",
        "          df['gX'][index], \n",
        "          df['gY'][index], \n",
        "          df['gZ'][index],\n",
        "          ]\n",
        "\n",
        "    inputs.append(tensor)\n",
        "    outputs.append(output)\n",
        "\n",
        "# convert the list to numpy array\n",
        "inputs = np.array(inputs)\n",
        "outputs = np.array(outputs)\n",
        "\n",
        "print(\"Data set parsing and preparation complete.\")"
      ]
    },
    {
      "cell_type": "markdown",
      "metadata": {
        "id": "d5_61831d5AM"
      },
      "source": [
        "## Randomize and split the input and output pairs for training\n",
        "\n",
        "Randomly sprint the input and ouput pairs into sets of data. 60% for training, 20% for validation, and 20% for testing.\n",
        "\n",
        "  - the training set is used to train the model\n",
        "  - the validation set is used to measure how well the model is performing during training\n",
        "  - the testing set is used test the model after training"
      ]
    },
    {
      "cell_type": "code",
      "execution_count": null,
      "metadata": {
        "id": "QfNEmUZMeIEx"
      },
      "outputs": [],
      "source": [
        "# Randomize the order of the inputs, so they can be evenly distributed for training, testing, and validation\n",
        "randomize = np.arange(len(inputs))\n",
        "np.random.shuffle(randomize)\n",
        "inputs = inputs[randomize]\n",
        "outputs = outputs[randomize]\n",
        "\n",
        "# Split the recordings (group of samples) into three sets: training, testing and validation\n",
        "TRAIN_SPLIT = int(0.6 * len(inputs))\n",
        "TEST_SPLIT = int(0.2 * len(inputs) + TRAIN_SPLIT)\n",
        "\n",
        "inputs_train, inputs_test, inputs_validate = np.split(inputs, [TRAIN_SPLIT, TEST_SPLIT])\n",
        "outputs_train, outputs_test, outputs_validate = np.split(outputs, [TRAIN_SPLIT, TEST_SPLIT])\n",
        "\n",
        "print(len(inputs_train))\n",
        "print(len(inputs_test))\n",
        "print(len(inputs_validate))"
      ]
    },
    {
      "cell_type": "markdown",
      "metadata": {
        "id": "a9g2n41p24nR"
      },
      "source": [
        "## Build & Train the Model\n",
        "\n",
        "Build and train a [TensorFlow](https://www.tensorflow.org) model using the high-level [Keras](https://www.tensorflow.org/guide/keras) API."
      ]
    },
    {
      "cell_type": "code",
      "execution_count": null,
      "metadata": {
        "id": "kGNFa-lX24Qo"
      },
      "outputs": [],
      "source": [
        "model = tf.keras.Sequential()\n",
        "model.add(tf.keras.layers.Dense(50, activation='relu', kernel_initializer='he_uniform'))\n",
        "model.add(tf.keras.layers.Dense(15, activation='relu', kernel_initializer='he_uniform'))\n",
        "model.add(tf.keras.layers.Dense(1, activation='sigmoid'))\n",
        "model.compile(loss='binary_crossentropy', optimizer=\"adam\", metrics=['accuracy'])\n",
        "history = model.fit(inputs_train, outputs_train, epochs=60, batch_size=32, validation_data=(inputs_validate, outputs_validate))"
      ]
    },
    {
      "cell_type": "markdown",
      "metadata": {
        "id": "NUDPvaJE1wRE"
      },
      "source": [
        "## Verify \n",
        "\n",
        "Graph the models performance vs validation.\n"
      ]
    },
    {
      "cell_type": "markdown",
      "metadata": {
        "id": "kxA0zCOaS35v"
      },
      "source": [
        "### Graph the loss\n",
        "\n",
        "Graph the loss to see when the model stops improving."
      ]
    },
    {
      "cell_type": "code",
      "execution_count": null,
      "metadata": {
        "id": "bvFNHXoQzmcM"
      },
      "outputs": [],
      "source": [
        "# increase the size of the graphs. The default size is (6,4).\n",
        "plt.rcParams[\"figure.figsize\"] = (20,10)\n",
        "\n",
        "# graph the loss, the model above is configure to use \"mean squared error\" as the loss function\n",
        "loss = history.history['loss']\n",
        "val_loss = history.history['val_loss']\n",
        "epochs = range(1, len(loss) + 1)\n",
        "plt.plot(epochs, loss, 'g.', label='Training loss')\n",
        "plt.plot(epochs, val_loss, 'b', label='Validation loss')\n",
        "plt.title('Training and validation loss')\n",
        "plt.xlabel('Epochs')\n",
        "plt.ylabel('Loss')\n",
        "plt.legend()\n",
        "plt.show()\n",
        "\n",
        "\n",
        "accuracy = history.history['accuracy']\n",
        "val_accuracy = history.history['val_accuracy']\n",
        "epochs = range(1, len(accuracy) + 1)\n",
        "plt.plot(epochs, accuracy, 'g.', label='Training accuracy')\n",
        "plt.plot(epochs, val_accuracy, 'b', label='Validation accuracy')\n",
        "plt.title('Training and validation accuracy')\n",
        "plt.xlabel('Epochs')\n",
        "plt.ylabel('Accuracy')\n",
        "plt.legend()\n",
        "plt.show()"
      ]
    },
    {
      "cell_type": "markdown",
      "metadata": {
        "id": "guMjtfa42ahM"
      },
      "source": [
        "### Run with Test Data\n",
        "Put our test data into the model and plot the predictions\n"
      ]
    },
    {
      "cell_type": "code",
      "execution_count": null,
      "metadata": {
        "id": "V3Y0CCWJz2EK"
      },
      "outputs": [],
      "source": [
        "# use the model to predict the test inputs\n",
        "predictions = np.array((model.predict(inputs_test) > 0.5)[:], dtype=int)\n",
        "\n",
        "# Plot the predictions along with to the test data\n",
        "plt.clf()\n",
        "plt.title('Training data predicted vs actual values')\n",
        "plt.plot(inputs_test, outputs_test, 'b.', label='Actual')\n",
        "plt.plot(inputs_test, predictions, 'r.', label='Predicted')\n",
        "plt.show()"
      ]
    },
    {
      "cell_type": "markdown",
      "metadata": {
        "id": "j7DO6xxXVCym"
      },
      "source": [
        "# Convert the Trained Model to Tensorflow Lite\n",
        "\n",
        "The next cell converts the model to TFlite format. The size in bytes of the model is also printed out."
      ]
    },
    {
      "cell_type": "code",
      "execution_count": null,
      "metadata": {
        "id": "0Xn1-Rn9Cp_8"
      },
      "outputs": [],
      "source": [
        "# Convert the model to the TensorFlow Lite format without quantization\n",
        "converter = tf.lite.TFLiteConverter.from_keras_model(model)\n",
        "tflite_model = converter.convert()\n",
        "\n",
        "# Save the model to disk\n",
        "open(\"model.tflite\", \"wb\").write(tflite_model)\n",
        "  \n",
        "import os\n",
        "basic_model_size = os.path.getsize(\"model.tflite\")\n",
        "print(\"Model is %d bytes\" % basic_model_size)"
      ]
    },
    {
      "cell_type": "markdown",
      "metadata": {
        "id": "ykccQn7SXrUX"
      },
      "source": [
        "## Encode the Model in an Arduino Header File \n",
        "\n",
        "The next cell creates a constant byte array that contains the TFlite model. Import it as a tab with the sketch below."
      ]
    },
    {
      "cell_type": "code",
      "execution_count": null,
      "metadata": {
        "id": "9J33uwpNtAku"
      },
      "outputs": [],
      "source": [
        "!echo \"//Build time:\" date \"+%T\"          >> model.h\n",
        "!echo \"const unsigned char model[] = {\"    > model.h\n",
        "!cat model.tflite | xxd -i                >> model.h\n",
        "!echo \"};\"                                >> model.h\n",
        "\n",
        "import os\n",
        "model_h_size = os.path.getsize(\"model.h\")\n",
        "print(f\"Header file, model.h, is {model_h_size:,} bytes.\")\n",
        "print(\"\\nOpen the side panel (refresh if needed). Double click model.h to download the file.\")"
      ]
    }
  ],
  "metadata": {
    "colab": {
      "collapsed_sections": [],
      "name": "train.ipynb",
      "provenance": [],
      "include_colab_link": true
    },
    "kernelspec": {
      "display_name": "Python 3",
      "name": "python3"
    },
    "language_info": {
      "codemirror_mode": {
        "name": "ipython",
        "version": 3
      },
      "file_extension": ".py",
      "mimetype": "text/x-python",
      "name": "python",
      "nbconvert_exporter": "python",
      "pygments_lexer": "ipython3",
      "version": "3.8.10"
    }
  },
  "nbformat": 4,
  "nbformat_minor": 0
}